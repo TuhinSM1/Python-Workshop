{
 "cells": [
  {
   "cell_type": "markdown",
   "id": "continuing-amazon",
   "metadata": {},
   "source": [
    "# Day 4 Assignment\n",
    "\n",
    " **** Problem-1: Write a python program to find those numbers which are divisible by 8 and 3 but multiple of 9, between 1000 and 1800 (both included)\n",
    "  \n",
    "Solution:"
   ]
  },
  {
   "cell_type": "code",
   "execution_count": 1,
   "id": "affected-marks",
   "metadata": {},
   "outputs": [
    {
     "name": "stdout",
     "output_type": "stream",
     "text": [
      "['1008', '1080', '1152', '1224', '1296', '1368', '1440', '1512', '1584', '1656', '1728', '1800']\n"
     ]
    }
   ],
   "source": [
    "n = []\n",
    "for i in range (1000, 1801):\n",
    "    if (i%8 == 0) and (i%3 == 0) and (i%9 == 0):\n",
    "        n.append(str(i))\n",
    "print(n)"
   ]
  },
  {
   "cell_type": "markdown",
   "id": "elementary-trigger",
   "metadata": {},
   "source": [
    " **** Problem-2: touple = ( 'I', 'E', 'E', 'H', 'S', 'T', 'U', 'S', 'B' )\n",
    "using this touple, write a program whose output will be IEEE HSTU SB.\n",
    "\n",
    "Solution:"
   ]
  },
  {
   "cell_type": "code",
   "execution_count": 9,
   "id": "earlier-disorder",
   "metadata": {},
   "outputs": [
    {
     "name": "stdout",
     "output_type": "stream",
     "text": [
      "IEEE HSTU SB\n"
     ]
    }
   ],
   "source": [
    "a_tuple = (\"I\",\"E\",\"E\",\"E\",\"H\",\"S\",\"T\",\"U\",\"S\",\"B\")\n",
    "\n",
    "a = \"\".join(a_tuple[:4])\n",
    "b=\"\".join(a_tuple[4:8])\n",
    "c=\"\".join(a_tuple[8:10])\n",
    "\n",
    "print(a,b,c)"
   ]
  },
  {
   "cell_type": "markdown",
   "id": "conditional-heart",
   "metadata": {},
   "source": [
    " **** Problem-3: Write a Python program to check a triangle is equilateral, isosceles or scalene.\n",
    "Note :\n",
    "An equilateral triangle is a triangle in which all three sides are equal.\n",
    "A scalene triangle is a triangle that has three unequal sides.\n",
    "\n",
    "Solution:"
   ]
  },
  {
   "cell_type": "code",
   "execution_count": 1,
   "id": "mysterious-motion",
   "metadata": {},
   "outputs": [
    {
     "name": "stdout",
     "output_type": "stream",
     "text": [
      "Enter the length of triangle sides: \n",
      "x = 7\n",
      "y = 9\n",
      "z = 7\n",
      "The triangle is Isoscceles\n"
     ]
    }
   ],
   "source": [
    "print(\"Enter the length of triangle sides: \")\n",
    "x = int(input(\"x = \"))\n",
    "y = int(input(\"y = \"))\n",
    "z = int(input(\"z = \"))\n",
    "\n",
    "if x==y==z:\n",
    "    print(\"The triangle is Equilateral\")\n",
    "elif x==y or y==z or z==x:\n",
    "    print(\"The triangle is Isoscceles\")\n",
    "else:\n",
    "    print(\"The triangle is Scalene\")"
   ]
  },
  {
   "cell_type": "markdown",
   "id": "subject-consumer",
   "metadata": {},
   "source": [
    " **** Problem-4: Write a program to create the multiplication table of (from 1 tpo 10) of a number.\n",
    " \n",
    "Solution:"
   ]
  },
  {
   "cell_type": "code",
   "execution_count": 2,
   "id": "southern-maldives",
   "metadata": {},
   "outputs": [
    {
     "name": "stdout",
     "output_type": "stream",
     "text": [
      "Input a number: \n",
      "7\n",
      "7 x 1 = 7\n",
      "7 x 2 = 14\n",
      "7 x 3 = 21\n",
      "7 x 4 = 28\n",
      "7 x 5 = 35\n",
      "7 x 6 = 42\n",
      "7 x 7 = 49\n",
      "7 x 8 = 56\n",
      "7 x 9 = 63\n",
      "7 x 10 = 70\n"
     ]
    }
   ],
   "source": [
    "print(\"Input a number: \")\n",
    "\n",
    "n = int(input())\n",
    "for i in range(1,11):\n",
    "    print(n,'x',i, '=', n*i)"
   ]
  },
  {
   "cell_type": "markdown",
   "id": "difficult-clone",
   "metadata": {},
   "source": [
    " **** Problem-5: Write a python program to check whether a given year is a leap year.\n",
    " \n",
    "Solution:"
   ]
  },
  {
   "cell_type": "code",
   "execution_count": 26,
   "id": "animal-classic",
   "metadata": {},
   "outputs": [
    {
     "name": "stdout",
     "output_type": "stream",
     "text": [
      "Input a year= 2016\n",
      "The given year is a Leap Year\n"
     ]
    }
   ],
   "source": [
    "\n",
    "y = int(input(\"Input a year= \"))\n",
    "if y%4==0:\n",
    "    print(\"The given year is a Leap Year\")\n",
    "else:\n",
    "    print(\"The given year is not a Leap Year\")"
   ]
  },
  {
   "cell_type": "markdown",
   "id": "muslim-asset",
   "metadata": {},
   "source": [
    " **** Problem-6: Write the programme to get the areas of a) Triangle, b) Rectanangle, c) Circle.\n",
    " \n",
    "Solution:"
   ]
  },
  {
   "cell_type": "code",
   "execution_count": 15,
   "id": "vocational-uncle",
   "metadata": {},
   "outputs": [
    {
     "name": "stdout",
     "output_type": "stream",
     "text": [
      "Please enter the correct spelling in lowercase\n",
      "Enter a shape name amongst triangle, rectangle, circle for which you want to calculagte the area: circle\n",
      "Enter circle's radius:5\n",
      "Area of circle:  75\n"
     ]
    }
   ],
   "source": [
    "print(\"Please enter the correct spelling in lowercase\")\n",
    "shape = input(\"Enter a shape name amongst triangle, rectangle, circle for which you want to calculagte the area: \")\n",
    "    \n",
    "if shape == \"triangle\":\n",
    "    h = int(input(\"Enter triangle's height: \"))\n",
    "    w = int(input(\"Enter triangle's base: \"))\n",
    "    triangle_area = print(\"Area of tringle: \",1/2*int(h)*int(w))\n",
    "\n",
    "elif shape == \"rectangle\":\n",
    "    l = int(input(\"Enter rectangle's length\"))\n",
    "    b = int(input(\"Enter rectangle's weight\"))\n",
    "    rectangle_area = print(\"Area of rectangle: \",int(l)*int(b))\n",
    "\n",
    "elif shape == \"circle\":\n",
    "    r = int(input(\"Enter circle's radius:\"))\n",
    "    pi = 3.14\n",
    "    circle_area = print(\"Area of circle: \", int(pi)*int(r)*int(r))\n",
    "else:\n",
    "          print(\"Sorry! This shape is not available\")\n",
    "    "
   ]
  },
  {
   "cell_type": "code",
   "execution_count": null,
   "id": "nominated-toddler",
   "metadata": {},
   "outputs": [],
   "source": []
  },
  {
   "cell_type": "code",
   "execution_count": null,
   "id": "stunning-colombia",
   "metadata": {},
   "outputs": [],
   "source": []
  }
 ],
 "metadata": {
  "kernelspec": {
   "display_name": "Python 3",
   "language": "python",
   "name": "python3"
  },
  "language_info": {
   "codemirror_mode": {
    "name": "ipython",
    "version": 3
   },
   "file_extension": ".py",
   "mimetype": "text/x-python",
   "name": "python",
   "nbconvert_exporter": "python",
   "pygments_lexer": "ipython3",
   "version": "3.9.2"
  }
 },
 "nbformat": 4,
 "nbformat_minor": 5
}
