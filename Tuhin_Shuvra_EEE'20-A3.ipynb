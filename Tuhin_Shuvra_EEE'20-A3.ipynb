{
 "cells": [
  {
   "cell_type": "markdown",
   "id": "cooked-elizabeth",
   "metadata": {},
   "source": [
    "#                         Day 3 Assignment\n",
    "\n",
    "Sunmitted By:\n",
    "\n",
    "Tuhin Shuvra Mondal;\n",
    "Department of EEE(20'Batch)\n",
    "IEEE Membership Number: 97508961"
   ]
  },
  {
   "cell_type": "markdown",
   "id": "renewable-exhibit",
   "metadata": {},
   "source": [
    "\n",
    "# About flow control\n",
    "\n",
    "  **** What is flow control?\n",
    "  \n",
    "A program's control flow is the order in which the program's code executes. The control flow of a Python program is regulated by conditional statements, loops, and function calls. Raising and handling exceptions also affects control flow.\n",
    "\n",
    "  **** List all flow control with example.\n",
    "  \n",
    "\n",
    "There are countless different systems for flow control in programming. But four are by far the most common. Here are those: \n",
    "\n",
    "\n",
    "  **Conditionals\n",
    "  \n",
    "The most basic type of flow control is the humble if statement:"
   ]
  },
  {
   "cell_type": "code",
   "execution_count": 5,
   "id": "historic-annex",
   "metadata": {},
   "outputs": [
    {
     "name": "stdout",
     "output_type": "stream",
     "text": [
      "Right\n"
     ]
    }
   ],
   "source": [
    "a = 17\n",
    "\n",
    "if a>10:\n",
    "    print(\"Right\")\n",
    "if a<=10:\n",
    "    print(\"Wrong\")"
   ]
  },
  {
   "cell_type": "markdown",
   "id": "better-america",
   "metadata": {},
   "source": [
    "If we have opposite conditions, we can use the else statement:"
   ]
  },
  {
   "cell_type": "code",
   "execution_count": 6,
   "id": "employed-marshall",
   "metadata": {},
   "outputs": [
    {
     "name": "stdout",
     "output_type": "stream",
     "text": [
      "wrong\n"
     ]
    }
   ],
   "source": [
    "a = 6\n",
    "\n",
    "if a>10:\n",
    "    print(\"Right\")\n",
    "else:\n",
    "    print(\"wrong\")"
   ]
  },
  {
   "cell_type": "markdown",
   "id": "crude-player",
   "metadata": {},
   "source": [
    "And chain multiple conditions together with elif:"
   ]
  },
  {
   "cell_type": "code",
   "execution_count": 8,
   "id": "multiple-nigeria",
   "metadata": {},
   "outputs": [
    {
     "name": "stdout",
     "output_type": "stream",
     "text": [
      "Better\n"
     ]
    }
   ],
   "source": [
    "a = 23\n",
    "if a>100:\n",
    "    print(\"Good\")\n",
    "elif a>20:\n",
    "    print(\"Better\")\n",
    "else:\n",
    "    print(\"None of those \")"
   ]
  },
  {
   "cell_type": "markdown",
   "id": "premier-direction",
   "metadata": {},
   "source": [
    "  **Loops\n",
    "  \n",
    "The simplest loop is a while loop. A while loop is given a condition, and executes the loop until the condition is false. (If the condition is false, it does nothing.)"
   ]
  },
  {
   "cell_type": "code",
   "execution_count": 20,
   "id": "industrial-desktop",
   "metadata": {},
   "outputs": [],
   "source": [
    "# Setup Variables\n",
    "\n",
    "moduland = 57\n",
    "modulo = 17\n",
    "\n",
    "# Compute Modulus\n",
    "\n",
    "modulus = moduland\n",
    "while modulus > modulo:\n",
    "    modulus = modulus - modulo"
   ]
  },
  {
   "cell_type": "markdown",
   "id": "loose-black",
   "metadata": {},
   "source": [
    "The most common loop, however, is for. Most languages have for loops that are simply while loops with some syntactic help. Python for loops are more versatile - they loop through containers."
   ]
  },
  {
   "cell_type": "code",
   "execution_count": 21,
   "id": "drawn-desktop",
   "metadata": {},
   "outputs": [
    {
     "name": "stdout",
     "output_type": "stream",
     "text": [
      "[1, 64, 729]\n"
     ]
    }
   ],
   "source": [
    "example_list = [1,4,9]\n",
    "cube_list = []\n",
    "\n",
    "for value in example_list:\n",
    "    cube_list.append(value**3)\n",
    "\n",
    "print(cube_list)"
   ]
  },
  {
   "cell_type": "markdown",
   "id": "conceptual-fireplace",
   "metadata": {},
   "source": [
    "Often, this is enough. However, you often want to iterate a certain number of times.\n",
    "\n",
    "For that, there is the range command:"
   ]
  },
  {
   "cell_type": "code",
   "execution_count": 22,
   "id": "broken-chain",
   "metadata": {},
   "outputs": [
    {
     "name": "stdout",
     "output_type": "stream",
     "text": [
      "0\n",
      "1\n",
      "2\n",
      "3\n",
      "4\n"
     ]
    }
   ],
   "source": [
    "for i in range(5):\n",
    "      print(i)"
   ]
  },
  {
   "cell_type": "markdown",
   "id": "provincial-forty",
   "metadata": {},
   "source": [
    "Note that range(5) provides the first 5 integers, 0-indexed; that is, 0,1,2,3,4.\n",
    "\n",
    "Range accepts optional parameters for starting value and integer step; for example,"
   ]
  },
  {
   "cell_type": "code",
   "execution_count": 24,
   "id": "posted-outline",
   "metadata": {},
   "outputs": [
    {
     "name": "stdout",
     "output_type": "stream",
     "text": [
      "1\n",
      "3\n",
      "5\n",
      "7\n",
      "9\n"
     ]
    }
   ],
   "source": [
    "for i in range(1,10,2):\n",
    "  print(i)"
   ]
  },
  {
   "cell_type": "markdown",
   "id": "indie-china",
   "metadata": {},
   "source": [
    "  **Breaks & Continues:\n",
    "\n",
    "We will talk about escaping more in the future, but there are two useful flow control statements within loops:\n",
    "\n",
    "break escapes the current loop, and moves on after it. For example:"
   ]
  },
  {
   "cell_type": "code",
   "execution_count": 23,
   "id": "hungarian-giving",
   "metadata": {},
   "outputs": [
    {
     "name": "stdout",
     "output_type": "stream",
     "text": [
      "5\n"
     ]
    }
   ],
   "source": [
    "for i in range(100):\n",
    "  if i==5:\n",
    "    break\n",
    "print(i)"
   ]
  },
  {
   "cell_type": "markdown",
   "id": "scheduled-brunswick",
   "metadata": {},
   "source": [
    "  **Functions:\n",
    "\n",
    "Functions very much count as flow control.\n",
    "\n",
    "The main two behaviors of functions that control flow are entering and exiting.\n",
    "\n",
    "When you call a function, execution of the parent flow is paused. Until the function executes a return statement - or runs out of things to do - you are within the function's flow.\n",
    "\n",
    "This can be used to escape any number of loops: for example,"
   ]
  },
  {
   "cell_type": "code",
   "execution_count": 27,
   "id": "explicit-hampshire",
   "metadata": {},
   "outputs": [
    {
     "name": "stdout",
     "output_type": "stream",
     "text": [
      "Couldn't find 5.\n"
     ]
    }
   ],
   "source": [
    "def find_5():\n",
    "  for i in range(100):\n",
    "    for j in range(20):\n",
    "      if i == 5:\n",
    "        return i\n",
    "print(\"Couldn't find 5.\")"
   ]
  },
  {
   "cell_type": "markdown",
   "id": "happy-galaxy",
   "metadata": {},
   "source": [
    "  **Errors:\n",
    "\n",
    "We will talk about errors in more detail later in the course.\n",
    "\n",
    "For flow control, it is most important to know that they are raised by functions whenever they can't do what you asked. They break out of all flow - unless they are suppressed.\n",
    "\n",
    "If your code is asked to do something it doesn't know how to do, it is best to raise an error:"
   ]
  },
  {
   "cell_type": "markdown",
   "id": "heard-sudan",
   "metadata": {},
   "source": [
    "# Conditional statement\n",
    "\n",
    "  **** What is conditional statement. \n",
    "  \n",
    "Conditional Statement in Python perform different computations or actions depending on whether a specific Boolean constraint evaluates to true or false. Conditional statements are handled by IF statements in Python.\n",
    "\n",
    "  **** Describe structure of conditional statement.\n",
    "\n",
    "A conditional statement uses a syntax structure based on if and else statements (each ending with a colon :) that define the potential actions that can be completed based on whether the condition is true or not:\n",
    "\n",
    "if condition: some code here else: some other code here If the condition provided with the if statement is satisfied (i.e. results in a value of True), then a certain code will execute. If that condition is not met (i.e. results in a value of False), then the code provided with the else statement will execute."
   ]
  },
  {
   "cell_type": "markdown",
   "id": "amino-discipline",
   "metadata": {},
   "source": [
    "# Problem 1\n",
    "\n",
    "  **** Take input from a user and check whether the number is odd or even?"
   ]
  },
  {
   "cell_type": "code",
   "execution_count": 1,
   "id": "defensive-tunnel",
   "metadata": {},
   "outputs": [
    {
     "name": "stdout",
     "output_type": "stream",
     "text": [
      "Enter a number: 15\n",
      "15 is Odd number\n"
     ]
    }
   ],
   "source": [
    "num = int(input(\"Enter a number: \"))  \n",
    "if (num % 2) == 0:  \n",
    "   print(\"{0} is Even number\".format(num))  \n",
    "else:  \n",
    "   print(\"{0} is Odd number\".format(num))"
   ]
  },
  {
   "cell_type": "markdown",
   "id": "parental-student",
   "metadata": {},
   "source": [
    "# Problem 2\n",
    "\n",
    "  **** Take integer input from user, say a\n",
    "\n",
    " 1. Print number of sample, if 100 <= a < 200, and a is divisible by 9\n",
    " 2. Display those numbers which are divisible by 7 and multiple of 5, between 500 and 100\n",
    "\n",
    "Solution:"
   ]
  },
  {
   "cell_type": "code",
   "execution_count": 4,
   "id": "creative-chicken",
   "metadata": {},
   "outputs": [
    {
     "name": "stdout",
     "output_type": "stream",
     "text": [
      "Enter a number : 180\n",
      "It satisfies the condition \n"
     ]
    }
   ],
   "source": [
    "#1\n",
    "a = int(input(\"Enter a number : \"))\n",
    "if a>=100 and a<200 :\n",
    "    if a % 9 == 0 :\n",
    "         print(\"It satisfies the condition \")\n",
    "    else:\n",
    "        print(\"In range but not devided by 9 \")         \n",
    "else :\n",
    "    print(\"Not in range \")\n",
    "        "
   ]
  },
  {
   "cell_type": "code",
   "execution_count": 5,
   "id": "constitutional-recording",
   "metadata": {},
   "outputs": [
    {
     "name": "stdout",
     "output_type": "stream",
     "text": [
      "Enter a number :110\n",
      "It doesn't satisfies the condition \n"
     ]
    }
   ],
   "source": [
    "#2\n",
    "\n",
    "c= int(input(\"Enter a number :\"))\n",
    "if c>=100 and c<=500 :\n",
    "    if c%7 == 0 and  c% 5 ==0 :\n",
    "        print(\"It satisfies the condition \")\n",
    "    else :\n",
    "        print(\"It doesn't satisfies the condition \")\n",
    "else :\n",
    "    print(\"Not in range \")"
   ]
  },
  {
   "cell_type": "markdown",
   "id": "enormous-resort",
   "metadata": {},
   "source": [
    "# Problem 3\n",
    "\n",
    "  **** Take year as a integer input from a user, ○ check whether the year is leap year or not?"
   ]
  },
  {
   "cell_type": "code",
   "execution_count": 11,
   "id": "approved-effort",
   "metadata": {},
   "outputs": [
    {
     "name": "stdout",
     "output_type": "stream",
     "text": [
      "Enter a Year:\n",
      "1971\n",
      "1971 is not a leap year\n"
     ]
    }
   ],
   "source": [
    "print(\"Enter a Year:\")\n",
    "year = int(input())\n",
    "\n",
    "if (year % 4) == 0:\n",
    "   if (year % 100) == 0:\n",
    "       if (year % 400) == 0:\n",
    "           print(\"{0} is a leap year\".format(year))\n",
    "       else:\n",
    "           print(\"{0} is not a leap year\".format(year))\n",
    "   else:\n",
    "       print(\"{0} is a leap year\".format(year))\n",
    "else:\n",
    "   print(\"{0} is not a leap year\".format(year))"
   ]
  },
  {
   "cell_type": "markdown",
   "id": "german-slovenia",
   "metadata": {},
   "source": [
    "# Problem 4\n",
    "\n",
    "  **** Make a simple calculator (function : +, -, and /) ○ Take three input from a user, say, input1, input2, input3 ○ input 1 represents arithmetic sing ( +, -, and /) ○ Input 2 and input 3 represent number ○ Display arithmetic output of input 2 and input 3 based on input 1.\n",
    "  \n",
    "Solution:"
   ]
  },
  {
   "cell_type": "code",
   "execution_count": 13,
   "id": "loaded-vector",
   "metadata": {},
   "outputs": [
    {
     "name": "stdout",
     "output_type": "stream",
     "text": [
      "Enter a arithmetic sign : *\n",
      "Enter 1st number :7\n",
      "Enter 2nd number 8\n",
      "7 * 8 = 56\n"
     ]
    }
   ],
   "source": [
    "i1= input(\"Enter a arithmetic sign : \")\n",
    "i2= int(input(\"Enter 1st number :\"))\n",
    "i3= int(input(\"Enter 2nd number \"))\n",
    "if i1 == \"+\" :\n",
    "    print(i2,\"+\",i3,\"=\",i2+i3)\n",
    "elif i1 == \"-\" :\n",
    "    print(i2,\"-\",i3<\"=\",i2-i3)\n",
    "elif i1 == \"*\" :\n",
    "    print(i2,\"*\",i3,\"=\",i2*i3)\n",
    "elif i1 == \"/\" :\n",
    "    print(i2,\"/\",i3,\"=\",i2/i3)\n",
    "else :\n",
    "    print(\"Invalid Operator\")"
   ]
  },
  {
   "cell_type": "markdown",
   "id": "elementary-brick",
   "metadata": {},
   "source": [
    "# Problem 5\n",
    "  **** Take a number from a user, check if the number is positive or negative or zero and display an appropriate message.\n",
    "  \n",
    "Solution:"
   ]
  },
  {
   "cell_type": "code",
   "execution_count": 14,
   "id": "ordinary-street",
   "metadata": {},
   "outputs": [
    {
     "name": "stdout",
     "output_type": "stream",
     "text": [
      "Enter a number: -54\n",
      "Negative number\n"
     ]
    }
   ],
   "source": [
    "num = float(input(\"Enter a number: \"))\n",
    "if num > 0:\n",
    "   print(\"Positive number\")\n",
    "elif num == 0:\n",
    "   print(\"Zero\")\n",
    "else:\n",
    "   print(\"Negative number\")"
   ]
  },
  {
   "cell_type": "markdown",
   "id": "revolutionary-rendering",
   "metadata": {},
   "source": [
    "# Problem 6\n",
    "\n",
    "  **** Take values of length and breadth of a rectangle from a user and check if it is square or not."
   ]
  },
  {
   "cell_type": "code",
   "execution_count": 17,
   "id": "reported-nutrition",
   "metadata": {},
   "outputs": [
    {
     "name": "stdout",
     "output_type": "stream",
     "text": [
      "enter the length of the figure = 14\n",
      "enter the breadth of the figure = 14\n",
      "the figure is a square\n"
     ]
    }
   ],
   "source": [
    "l=eval(input(\"enter the length of the figure = \"))\n",
    "\n",
    "b=eval(input(\"enter the breadth of the figure = \"))\n",
    "\n",
    "if l==b:\n",
    "\n",
    "   print(\"the figure is a square\")\n",
    "\n",
    "else:\n",
    "\n",
    "   print(\"the figure is not a square\")"
   ]
  },
  {
   "cell_type": "markdown",
   "id": "focused-isaac",
   "metadata": {},
   "source": [
    "# Problem 7\n",
    "\n",
    "  **** Take three int values from a user and display the highest and lowest number among them."
   ]
  },
  {
   "cell_type": "code",
   "execution_count": 18,
   "id": "quarterly-melissa",
   "metadata": {},
   "outputs": [
    {
     "name": "stdout",
     "output_type": "stream",
     "text": [
      "Enter first number: 22\n",
      "Enter second number: 17\n",
      "Enter third number: 33\n",
      "The largest number is 33.0\n",
      "The lowest number is 17.0\n"
     ]
    }
   ],
   "source": [
    "num1 = float(input(\"Enter first number: \"))\n",
    "num2 = float(input(\"Enter second number: \"))\n",
    "num3 = float(input(\"Enter third number: \"))\n",
    "\n",
    "if (num1 >= num2) and (num1 >= num3):\n",
    "   largest = num1\n",
    "elif (num2 >= num1) and (num2 >= num3):\n",
    "   largest = num2\n",
    "else:\n",
    "   largest = num3\n",
    "\n",
    "print(\"The largest number is\", largest)\n",
    "\n",
    "if (num1<num2) and (num1<num3):\n",
    "    lowest=num1\n",
    "elif (num2<num3):\n",
    "    lowest=num2\n",
    "else:\n",
    "    lowset=num3\n",
    "print(\"The lowest number is\", lowest)"
   ]
  },
  {
   "cell_type": "markdown",
   "id": "prescription-gazette",
   "metadata": {},
   "source": [
    "# Problem 8\n",
    "\n",
    "  **** Ask a user to enter marks and print the corresponding grade.\n",
    "  \n",
    "Solution:"
   ]
  },
  {
   "cell_type": "code",
   "execution_count": 19,
   "id": "engaging-pressure",
   "metadata": {},
   "outputs": [
    {
     "name": "stdout",
     "output_type": "stream",
     "text": [
      "Enter Marks Obtained in 5 Subjects: \n",
      "67\n",
      "73\n",
      "84\n",
      "64\n",
      "75\n",
      "Your grade is A-\n"
     ]
    }
   ],
   "source": [
    "# I am creating a program for the five course subjects of L-1 S-I of EEE\n",
    "\n",
    "print(\"Enter Marks Obtained in 5 Subjects: \")\n",
    "EEE = int(input())\n",
    "Physics = int(input())\n",
    "Chemistry = int(input())\n",
    "Math = int(input())\n",
    "AIE = int(input())\n",
    "\n",
    "Total = EEE + Physics + Chemistry + Math + AIE\n",
    "average = Total/5\n",
    "\n",
    "if average>=80 and average<=100:\n",
    "    print(\"Your grade is A+\")\n",
    "if average>=75 and average<=79:\n",
    "    print(\"Your grade is A\")\n",
    "if average>=70 and average<=74:\n",
    "    print(\"Your grade is A-\")\n",
    "if average>=65 and average<=69:\n",
    "    print(\"Your grade is B+\")\n",
    "if average>=60 and average<=64:\n",
    "    print(\"Your grade is B\")\n",
    "if average>=55 and average<=59:\n",
    "    print(\"Your grade is B-\")\n",
    "if average>=50 and average<=54:\n",
    "    print(\"Your grade is C+\")\n",
    "if average>=45 and average<=49:\n",
    "    print(\"Your grade is C\")\n",
    "if average>=40 and average<=44:\n",
    "    print(\"Your grade is D\")\n",
    "if average>=0 and average<=39:\n",
    "    print(\"Your grade is F\")"
   ]
  }
 ],
 "metadata": {
  "kernelspec": {
   "display_name": "Python 3",
   "language": "python",
   "name": "python3"
  },
  "language_info": {
   "codemirror_mode": {
    "name": "ipython",
    "version": 3
   },
   "file_extension": ".py",
   "mimetype": "text/x-python",
   "name": "python",
   "nbconvert_exporter": "python",
   "pygments_lexer": "ipython3",
   "version": "3.9.2"
  }
 },
 "nbformat": 4,
 "nbformat_minor": 5
}
