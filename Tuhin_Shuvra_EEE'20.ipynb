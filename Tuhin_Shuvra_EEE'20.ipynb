{
 "cells": [
  {
   "cell_type": "markdown",
   "id": "marine-canal",
   "metadata": {},
   "source": [
    "#                                                Day-2 Assignment\n",
    "\n",
    "Submitted By\n",
    "\n",
    "Tuhin Shuvra Mondal\n",
    "Departmet of EEE('20 Batch)\n",
    "Student ID: 2002231\n",
    "IEEE Membership ID:97508961 \n",
    "\n",
    "\n",
    "\n",
    "# About Data Types\n",
    "\n",
    "\t**** What is data type?\n",
    "\n",
    "Every value in Python has a datatype. Since everything is an object in Python programming, data types are actually classes and variables are instance (object) of these classes.\n",
    "\n",
    "\n",
    "\t**** Describe all Data Types with example.\n",
    "\n",
    "There are various data types in Python. Some of the important types are listed below.\n",
    "\n",
    "  **Python Numbers\n",
    "\n",
    "Integers, floating point numbers and complex numbers fall under Python numbers category. They are defined as int, float and complex classes in Python.\n",
    "We can use the type() function to know which class a variable or a value belongs to. Similarly, the isinstance() function is used to check if an object belongs to a particular class.\n",
    "\n",
    " Example:"
   ]
  },
  {
   "cell_type": "code",
   "execution_count": 1,
   "id": "personal-stage",
   "metadata": {},
   "outputs": [
    {
     "name": "stdout",
     "output_type": "stream",
     "text": [
      "5 <class 'int'>\n",
      "3.1 <class 'float'>\n",
      "(2+3j) <class 'complex'>\n"
     ]
    }
   ],
   "source": [
    "t = 5\n",
    "s = 3.1\n",
    "m = 2 + 3j\n",
    "print(t, type(t))\n",
    "print(s, type(s))\n",
    "print(m, type(m))"
   ]
  },
  {
   "cell_type": "markdown",
   "id": "controlling-shark",
   "metadata": {},
   "source": [
    "  **Python List\n",
    "\n",
    "List is an ordered sequence of items. It is one of the most used datatype in Python and is very flexible. All the items in a list do not need to be of the same type.\n",
    "Declaring a list is pretty straight forward. Items separated by commas are enclosed within brackets[ ].\n",
    "\n",
    " Example:"
   ]
  },
  {
   "cell_type": "code",
   "execution_count": 2,
   "id": "foster-basement",
   "metadata": {},
   "outputs": [
    {
     "name": "stdout",
     "output_type": "stream",
     "text": [
      "[2, 4, 7, 9, 14, 19, 23]\n"
     ]
    }
   ],
   "source": [
    "x = [2,4,7,9,14,19,23]\n",
    "print(x)"
   ]
  },
  {
   "cell_type": "markdown",
   "id": "satisfied-evanescence",
   "metadata": {},
   "source": [
    "We can use slicing operator [] to extract an item or a range of items from a list. The index starts from 0 in Python."
   ]
  },
  {
   "cell_type": "code",
   "execution_count": 4,
   "id": "acute-earthquake",
   "metadata": {},
   "outputs": [
    {
     "name": "stdout",
     "output_type": "stream",
     "text": [
      "4\n",
      "14\n"
     ]
    }
   ],
   "source": [
    "x = [2,4,7,9,14,19,23]\n",
    "print(x[1])    #one item\n",
    "print(x[4])     #a range of items"
   ]
  },
  {
   "cell_type": "markdown",
   "id": "flying-country",
   "metadata": {},
   "source": [
    "  **Python Tuple\n",
    "\n",
    "Tuple is an ordered sequence of items same as a list. The only difference is that tuples are immutable. Tuples once created cannot be modified.\n",
    "\n",
    "Tuples are used to write-protect data and are usually faster than lists as they cannot change dynamically.\n",
    "It is defined within parentheses () where items are separated by commas. So, we can use slicing operator to extract items but we cannot change it.\n",
    "\n",
    "Example:"
   ]
  },
  {
   "cell_type": "code",
   "execution_count": 5,
   "id": "hearing-recommendation",
   "metadata": {},
   "outputs": [
    {
     "name": "stdout",
     "output_type": "stream",
     "text": [
      "(1, 4, 7, 5.2, (2+3j))\n"
     ]
    }
   ],
   "source": [
    "x = (1, 4, 7, 5.2, 2+3j)\n",
    "print(x)"
   ]
  },
  {
   "cell_type": "code",
   "execution_count": 6,
   "id": "injured-toilet",
   "metadata": {},
   "outputs": [
    {
     "name": "stdout",
     "output_type": "stream",
     "text": [
      "5.2\n"
     ]
    }
   ],
   "source": [
    "x = (1, 4, 7, 5.2, 2+3j)\n",
    "print(x[3])       #slicing operator in tuple"
   ]
  },
  {
   "cell_type": "markdown",
   "id": "local-survey",
   "metadata": {},
   "source": [
    "  **Python Strings\n",
    "\n",
    "String is sequence of Unicode characters. We can use single quotes or double quotes to represent strings. Multi-line strings can be denoted using triple quotes, ''' or \"\"\". Strings are immutable.\n",
    "\n",
    "Example:"
   ]
  },
  {
   "cell_type": "code",
   "execution_count": 8,
   "id": "stuffed-ethnic",
   "metadata": {},
   "outputs": [
    {
     "name": "stdout",
     "output_type": "stream",
     "text": [
      "I am ejoying coding\n",
      "Thank you, IEEE\n",
      "for arranging the Python course\n"
     ]
    }
   ],
   "source": [
    "a = \"I am ejoying coding\"         #single line string\n",
    "a1 = '''Thank you, IEEE\n",
    "for arranging the Python course'''        #multiline string\n",
    "print(a)\n",
    "print(a1)"
   ]
  },
  {
   "cell_type": "markdown",
   "id": "liable-privacy",
   "metadata": {},
   "source": [
    "  **Python Set\n",
    "\n",
    "Set is an unordered collection of unique items. Set is defined by values separated by comma inside braces { }. Items in a set are not ordered.\n",
    "Sets have unique values. They eliminate duplicates.\n",
    "\n",
    "Examples:"
   ]
  },
  {
   "cell_type": "code",
   "execution_count": 10,
   "id": "european-request",
   "metadata": {},
   "outputs": [
    {
     "name": "stdout",
     "output_type": "stream",
     "text": [
      "{2, 100, 6, 8, 9, 10.5, 12, 13, 45, 18}\n"
     ]
    }
   ],
   "source": [
    "p = {2,6,8,9,13,45,9,12,18,45,10.5,100}\n",
    "print(p)"
   ]
  },
  {
   "cell_type": "markdown",
   "id": "public-jefferson",
   "metadata": {},
   "source": [
    "  **Python Dictionary\n",
    "\n",
    "Dictionary is an unordered collection of key-value pairs.\n",
    "\n",
    "It is generally used when we have a huge amount of data. Dictionaries are optimized for retrieving data. We must know the key to retrieve the value.\n",
    "In Python, dictionaries are defined within braces {} with each item being a pair in the form key:value. Key and value can be of any type.\n",
    "\n",
    "Example:"
   ]
  },
  {
   "cell_type": "code",
   "execution_count": 25,
   "id": "respiratory-seafood",
   "metadata": {},
   "outputs": [
    {
     "name": "stdout",
     "output_type": "stream",
     "text": [
      "{1: 'tuhin', 2: 'shuvra', 3: 'mondal'}\n",
      "tuhin\n"
     ]
    }
   ],
   "source": [
    "d = {\n",
    "    1: \"tuhin\",\n",
    "    2: \"shuvra\",\n",
    "    3: \"mondal\"\n",
    "}\n",
    "print(d)\n",
    "\n",
    "print(d[1])"
   ]
  },
  {
   "cell_type": "markdown",
   "id": "sublime-fraud",
   "metadata": {},
   "source": [
    "# Input and Output\n",
    "\n",
    "  **** Explain each parameter of print(*objects,sep='',end='\\n', file=sys.stdout,flush=Flase)\n",
    "  \n",
    "  \n",
    "  **Print() Parameters:\n",
    "  \n",
    "objects - object to the printed. * indicates that there may be more than one object\n",
    "\n",
    "sep - objects are separated by sep. Default value: ' '\n",
    "\n",
    "end - end is printed at last\n",
    "\n",
    "file - must be an object with write(string) method. If omitted it, sys.stdout will be used which prints objects on the screen.\n",
    "\n",
    "flush - If True, the stream is forcibly flushed. Default value: False\n",
    "  \n",
    "\n"
   ]
  },
  {
   "cell_type": "code",
   "execution_count": null,
   "id": "configured-speech",
   "metadata": {},
   "outputs": [],
   "source": []
  },
  {
   "cell_type": "markdown",
   "id": "durable-giving",
   "metadata": {},
   "source": [
    "# Operator\n",
    "\n",
    "  ****What is a Pythion Operator? Describe at least three types of operator.\n",
    "  \n",
    "Operators are special symbols in Python that carry out arithmetic or logical computation. The value that the operator operates on is called the operand. \n",
    "\n",
    "There are a few types of operators. Some of then are described below.\n",
    "\n",
    "  1. Arithmetic operators\n",
    "\n",
    "Arithmetic operators are used to perform mathematical operations like addition, subtraction, multiplication, etc.\n",
    "\n",
    "Example:"
   ]
  },
  {
   "cell_type": "code",
   "execution_count": 27,
   "id": "eastern-marker",
   "metadata": {},
   "outputs": [
    {
     "name": "stdout",
     "output_type": "stream",
     "text": [
      "30\n",
      "0.5\n"
     ]
    }
   ],
   "source": [
    "p = 10\n",
    "q = 20\n",
    "print(p+q)  #Here '+' is a arithmetic operator.\n",
    "print(p/q)  #Here '/' is a arithmetic operator."
   ]
  },
  {
   "cell_type": "markdown",
   "id": "pleasant-paradise",
   "metadata": {},
   "source": [
    "  2. Comparison operators\n",
    "  \n",
    "Comparison operators are used to compare values. It returns either True or False according to the condition. There are mainly six types of comparison operators. They are-\n",
    "\n",
    "1.Greater than(>),  2.Less than(<),  3.Equal to(==),  4.Not equal to(!=),\n",
    "5.Greater than or Equal to(>=),  6. Less than or Equal to(<=).\n",
    "\n",
    "Example:"
   ]
  },
  {
   "cell_type": "code",
   "execution_count": 32,
   "id": "featured-indonesian",
   "metadata": {},
   "outputs": [
    {
     "name": "stdout",
     "output_type": "stream",
     "text": [
      "False\n",
      "True\n"
     ]
    }
   ],
   "source": [
    "a = 25\n",
    "b = 35\n",
    "c = 10\n",
    "print(a>b)\n",
    "print(a>c)"
   ]
  },
  {
   "cell_type": "markdown",
   "id": "unable-military",
   "metadata": {},
   "source": [
    "  3. Assignment operators\n",
    "  \n",
    "Assignment operators are used in Python to assign values to variables.\n",
    "\n",
    "Such as a = 10 is a simple assignment operator that assigns the value 10 on the right to the variable a on the left.\n",
    "\n",
    "There are various compound operators in Python like a += 5 that adds to the variable and later assigns the same. It is equivalent to a = a + 5.\n",
    "\n",
    "Example:"
   ]
  },
  {
   "cell_type": "code",
   "execution_count": 37,
   "id": "smoking-franklin",
   "metadata": {},
   "outputs": [
    {
     "name": "stdout",
     "output_type": "stream",
     "text": [
      "20\n"
     ]
    }
   ],
   "source": [
    "d = 12\n",
    "d += 8 #we want to get d=20\n",
    "print(d)"
   ]
  },
  {
   "cell_type": "markdown",
   "id": "matched-effectiveness",
   "metadata": {},
   "source": [
    "# Problem 1\n",
    "\n",
    "  **** Define a list with 7 elements and print the 3rd element of the list.\n",
    "  \n",
    "  Solution:"
   ]
  },
  {
   "cell_type": "code",
   "execution_count": 39,
   "id": "developing-bishop",
   "metadata": {},
   "outputs": [
    {
     "name": "stdout",
     "output_type": "stream",
     "text": [
      "11\n"
     ]
    }
   ],
   "source": [
    "l = [ 1, 6, 11, 9, 13, 23, 3.6]\n",
    "print(l[2])"
   ]
  },
  {
   "cell_type": "markdown",
   "id": "funny-renewal",
   "metadata": {},
   "source": [
    "# Problem 2\n",
    "\n",
    "  **** Take two input (say a and b) from user and print three lines where:\n",
    "  \n",
    "   1. The first line contains the sum of the two numbers.\n",
    "   2. The 2nd line contains the difference of the two numbers            (first - second).\n",
    "   3. the third line contains the product of the two numbers.\n",
    "  \n",
    "  Solution:"
   ]
  },
  {
   "cell_type": "code",
   "execution_count": 40,
   "id": "sunrise-rental",
   "metadata": {},
   "outputs": [
    {
     "name": "stdout",
     "output_type": "stream",
     "text": [
      "8\n",
      "-2\n",
      "15\n"
     ]
    }
   ],
   "source": [
    "a = 3\n",
    "b = 5\n",
    "print(a + b)         #Ans-1\n",
    "print(a - b)         #Ans-2\n",
    "print(a*b)           #Ans-3\n"
   ]
  },
  {
   "cell_type": "markdown",
   "id": "widespread-intranet",
   "metadata": {},
   "source": [
    "# Pronlem 3\n",
    "\n",
    "  **** Take two inputs (say a and b) from the user and logic to print two lines. The first line should contain the result of integer division. The second line should contain the result of float division.\n",
    "\n",
    "Solution:"
   ]
  },
  {
   "cell_type": "code",
   "execution_count": 42,
   "id": "gross-alloy",
   "metadata": {},
   "outputs": [
    {
     "name": "stdout",
     "output_type": "stream",
     "text": [
      "0.6\n"
     ]
    }
   ],
   "source": [
    "a = 3\n",
    "b = 5\n",
    "print(a/b)"
   ]
  },
  {
   "cell_type": "markdown",
   "id": "intimate-actress",
   "metadata": {},
   "source": [
    "# Problem 4\n",
    "\n",
    "  **** Write a Python program to display the first and last colours from the following list of colour_list = [\"Red\", \"Green\", \"White\", \"Black\"].\n",
    "  \n",
    "  Solution:"
   ]
  },
  {
   "cell_type": "code",
   "execution_count": 44,
   "id": "running-capitol",
   "metadata": {},
   "outputs": [
    {
     "name": "stdout",
     "output_type": "stream",
     "text": [
      "Red Black\n"
     ]
    }
   ],
   "source": [
    "Colour = [\"Red\", \"Green\", \"White\", \"Black\"]\n",
    "\n",
    "print(Colour[0], Colour[3])"
   ]
  },
  {
   "cell_type": "markdown",
   "id": "previous-princeton",
   "metadata": {},
   "source": [
    "# Problem 5\n",
    "\n",
    "  **** Write a Python program to print the following\n",
    "  \n",
    "  Solution:"
   ]
  },
  {
   "cell_type": "code",
   "execution_count": null,
   "id": "cordless-hebrew",
   "metadata": {},
   "outputs": [],
   "source": []
  },
  {
   "cell_type": "markdown",
   "id": "imperial-story",
   "metadata": {},
   "source": [
    "# problem 6\n",
    "\n",
    "  **** Write a program that will accept the base and height of atriangle and compute the area.\n",
    "  \n",
    "  Solution:"
   ]
  },
  {
   "cell_type": "code",
   "execution_count": 43,
   "id": "colonial-elephant",
   "metadata": {},
   "outputs": [
    {
     "name": "stdout",
     "output_type": "stream",
     "text": [
      "30.0\n"
     ]
    }
   ],
   "source": [
    "b = 6     #Base\n",
    "h = 10    #Height\n",
    "area = b*h/2\n",
    "print(area)"
   ]
  },
  {
   "cell_type": "markdown",
   "id": "concrete-smoke",
   "metadata": {},
   "source": [
    "# problem 7\n",
    "\n",
    "  **** Write a program to display your details like name, age, address in three different lines."
   ]
  },
  {
   "cell_type": "code",
   "execution_count": 78,
   "id": "christian-pension",
   "metadata": {},
   "outputs": [
    {
     "name": "stdout",
     "output_type": "stream",
     "text": [
      "Name: Tuhin Shuvra Mondal\n",
      "Age: 20\n",
      "AAddress:- Village: Kultia, Post: Mashiahati, Upozela: Manirumpur, District: Jashore, Divisoin: Khulna\n"
     ]
    }
   ],
   "source": [
    "print(\"Name: Tuhin Shuvra Mondal\")\n",
    "print(\"Age: 20\")\n",
    "print(\"AAddress:- Village: Kultia, Post: Mashiahati, Upozela: Manirumpur, District: Jashore, Divisoin: Khulna\")"
   ]
  },
  {
   "cell_type": "markdown",
   "id": "minute-india",
   "metadata": {},
   "source": [
    "# problem 8\n",
    "\n",
    "  **** Python program for compound interest.\n",
    "  \n",
    "  solution:"
   ]
  },
  {
   "cell_type": "code",
   "execution_count": 74,
   "id": "loving-violence",
   "metadata": {},
   "outputs": [
    {
     "name": "stdout",
     "output_type": "stream",
     "text": [
      "30693.730299923052\n",
      "10693.730299923052\n"
     ]
    }
   ],
   "source": [
    "P = 20000\n",
    "R = 5.5\n",
    "t = 8\n",
    "\n",
    "A = P * (pow((1 + R/100),t))\n",
    "CI = A - P\n",
    "\n",
    "print(A)\n",
    "print(CI)"
   ]
  },
  {
   "cell_type": "markdown",
   "id": "palestinian-travel",
   "metadata": {},
   "source": [
    "# problem 9\n",
    "  \n",
    "  **** Printing output as given(stars).\n",
    "\n",
    "Solution:"
   ]
  },
  {
   "cell_type": "code",
   "execution_count": 76,
   "id": "hawaiian-monkey",
   "metadata": {},
   "outputs": [
    {
     "name": "stdout",
     "output_type": "stream",
     "text": [
      "* * * * *\n",
      " * * * *\n",
      "  * * *\n",
      "   * *\n",
      "    *\n"
     ]
    }
   ],
   "source": [
    "print(\"* * * * *\")\n",
    "print(\" * * * *\")\n",
    "print(\"  * * *\")\n",
    "print(\"   * *\")\n",
    "print(\"    *\")"
   ]
  },
  {
   "cell_type": "markdown",
   "id": "dangerous-tourist",
   "metadata": {},
   "source": [
    "# problem 10\n",
    "\n",
    "  **** Python programme to convert Celsius to Fahrenheit.\n",
    "  \n",
    "  Solution:"
   ]
  },
  {
   "cell_type": "code",
   "execution_count": 45,
   "id": "historical-consultancy",
   "metadata": {},
   "outputs": [
    {
     "name": "stdout",
     "output_type": "stream",
     "text": [
      "468.5\n"
     ]
    }
   ],
   "source": [
    "C = 97                    #Celcious\n",
    "F = (C*9/2) + 32          #Fahrenheit\n",
    "print(F)"
   ]
  }
 ],
 "metadata": {
  "kernelspec": {
   "display_name": "Python 3",
   "language": "python",
   "name": "python3"
  },
  "language_info": {
   "codemirror_mode": {
    "name": "ipython",
    "version": 3
   },
   "file_extension": ".py",
   "mimetype": "text/x-python",
   "name": "python",
   "nbconvert_exporter": "python",
   "pygments_lexer": "ipython3",
   "version": "3.9.2"
  }
 },
 "nbformat": 4,
 "nbformat_minor": 5
}
